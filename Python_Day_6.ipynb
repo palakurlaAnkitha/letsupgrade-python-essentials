{
  "nbformat": 4,
  "nbformat_minor": 0,
  "metadata": {
    "colab": {
      "name": "Python Day 6",
      "provenance": [],
      "authorship_tag": "ABX9TyPghZCyPvOU5iiWStsjf/GT",
      "include_colab_link": true
    },
    "kernelspec": {
      "name": "python3",
      "display_name": "Python 3"
    }
  },
  "cells": [
    {
      "cell_type": "markdown",
      "metadata": {
        "id": "view-in-github",
        "colab_type": "text"
      },
      "source": [
        "<a href=\"https://colab.research.google.com/github/palakurlaAnkitha/letsupgrade-python-essentials/blob/master/Python_Day_6.ipynb\" target=\"_parent\"><img src=\"https://colab.research.google.com/assets/colab-badge.svg\" alt=\"Open In Colab\"/></a>"
      ]
    },
    {
      "cell_type": "markdown",
      "metadata": {
        "id": "J2RpVXHdHJ6-",
        "colab_type": "text"
      },
      "source": [
        "Assignment 1"
      ]
    },
    {
      "cell_type": "code",
      "metadata": {
        "id": "52fGR14rHLnF",
        "colab_type": "code",
        "colab": {
          "base_uri": "https://localhost:8080/",
          "height": 122
        },
        "outputId": "56886436-6550-475b-9388-7faecca020bf"
      },
      "source": [
        " class Account:\n",
        "    \n",
        "    def __init__(self, owner, balance):\n",
        "        self.owner = owner\n",
        "        self.balance = balance\n",
        "    \n",
        "    def __str__(self):\n",
        "        return 'Account owner: {owner}\\nAccount balance: ${balance}'.format(owner=self.owner, balance=self.balance)\n",
        "        \n",
        "    def deposit(self, dp_money):\n",
        "        self.balance += dp_money\n",
        "        print('Deposit Accepted, your balance is {balance}'.format(balance=self.balance))\n",
        "    \n",
        "    def withdraw(self, wd_money):\n",
        "        if wd_money > self.balance:\n",
        "            print('Funds Unavailable!')\n",
        "        else:\n",
        "            self.balance -= wd_money\n",
        "            print('Withdrawal Accepted, your balance is {balance}'.format(balance=self.balance))\n",
        "            \n",
        "acct1 = Account('Ankitha',500)\n",
        "print(acct1)\n",
        " \n",
        "acct1.deposit(100)\n",
        "acct1.withdraw(30)\n",
        "acct1.withdraw(100)"
      ],
      "execution_count": 2,
      "outputs": [
        {
          "output_type": "stream",
          "text": [
            "Account owner: Ankitha\n",
            "Account balance: $500\n",
            "Deposit Accepted, your balance is 600\n",
            "Withdrawal Accepted, your balance is 570\n",
            "Withdrawal Accepted, your balance is 470\n"
          ],
          "name": "stdout"
        }
      ]
    },
    {
      "cell_type": "markdown",
      "metadata": {
        "id": "Ppx5tgM6HqSK",
        "colab_type": "text"
      },
      "source": [
        "Assignment 2"
      ]
    },
    {
      "cell_type": "code",
      "metadata": {
        "id": "PZAqgzitHrpr",
        "colab_type": "code",
        "colab": {
          "base_uri": "https://localhost:8080/",
          "height": 71
        },
        "outputId": "aa3dbe7b-0e12-4d7c-829d-0aee31d9c48f"
      },
      "source": [
        " ''' Python3 program to calculate Volume and \n",
        "    Surface area of Cone'''\n",
        " \n",
        "import math \n",
        "pi = math.pi \n",
        " \n",
        "def volume(r, h): \n",
        "    return (1 / 3) * pi * r * r * h \n",
        " \n",
        "def surfacearea(r, s): \n",
        "    return pi * r * s + pi * r * r \n",
        " \n",
        "radius = float(4) \n",
        "height = float(11) \n",
        "slat_height = float(12) \n",
        "print( \"Volume Of Cone : \", volume(radius, height) ) \n",
        "print( \"Surface Area Of Cone : \", surfacearea(radius, slat_height) )"
      ],
      "execution_count": 3,
      "outputs": [
        {
          "output_type": "stream",
          "text": [
            "Volume Of Cone :  184.3067690106012\n",
            "Surface Area Of Cone :  201.06192982974676\n"
          ],
          "name": "stdout"
        }
      ]
    }
  ]
}