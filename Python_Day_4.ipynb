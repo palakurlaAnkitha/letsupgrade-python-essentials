{
  "nbformat": 4,
  "nbformat_minor": 0,
  "metadata": {
    "colab": {
      "name": "Python Day 4.ipynb",
      "provenance": [],
      "authorship_tag": "ABX9TyOZaMMePrdiuOFMH43EFjgU",
      "include_colab_link": true
    },
    "kernelspec": {
      "name": "python3",
      "display_name": "Python 3"
    }
  },
  "cells": [
    {
      "cell_type": "markdown",
      "metadata": {
        "id": "view-in-github",
        "colab_type": "text"
      },
      "source": [
        "<a href=\"https://colab.research.google.com/github/palakurlaAnkitha/letsupgrade-python-essentials/blob/master/Python_Day_4.ipynb\" target=\"_parent\"><img src=\"https://colab.research.google.com/assets/colab-badge.svg\" alt=\"Open In Colab\"/></a>"
      ]
    },
    {
      "cell_type": "markdown",
      "metadata": {
        "id": "7QVmphXlDS0Y",
        "colab_type": "text"
      },
      "source": [
        "Day 4 assignment"
      ]
    },
    {
      "cell_type": "code",
      "metadata": {
        "id": "t99Fk6u0DVqX",
        "colab_type": "code",
        "colab": {
          "base_uri": "https://localhost:8080/",
          "height": 34
        },
        "outputId": "8eb64ff8-2c8a-4445-ba92-e7319f928915"
      },
      "source": [
        " num1 = 1042000\n",
        "num2 = 702648265\n",
        " \n",
        "for num in range(num1, num2 + 1):\n",
        " \n",
        "   \n",
        "   order = len(str(num))\n",
        "    \n",
        "   \n",
        "   sum = 0\n",
        " \n",
        "   temp = num\n",
        "   while temp > 0:\n",
        "       digit = temp % 10\n",
        "       sum += digit ** order\n",
        "       temp //= 10\n",
        " \n",
        "   if num == sum:\n",
        "       print(num)\n",
        "       break"
      ],
      "execution_count": 1,
      "outputs": [
        {
          "output_type": "stream",
          "text": [
            "1741725\n"
          ],
          "name": "stdout"
        }
      ]
    }
  ]
}