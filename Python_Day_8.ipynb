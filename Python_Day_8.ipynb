{
  "nbformat": 4,
  "nbformat_minor": 0,
  "metadata": {
    "colab": {
      "name": "Python Day 8",
      "provenance": [],
      "authorship_tag": "ABX9TyOxoJBEGr0dCN0SlTqyX6Mf",
      "include_colab_link": true
    },
    "kernelspec": {
      "name": "python3",
      "display_name": "Python 3"
    }
  },
  "cells": [
    {
      "cell_type": "markdown",
      "metadata": {
        "id": "view-in-github",
        "colab_type": "text"
      },
      "source": [
        "<a href=\"https://colab.research.google.com/github/palakurlaAnkitha/letsupgrade-python-essentials/blob/master/Python_Day_8.ipynb\" target=\"_parent\"><img src=\"https://colab.research.google.com/assets/colab-badge.svg\" alt=\"Open In Colab\"/></a>"
      ]
    },
    {
      "cell_type": "markdown",
      "metadata": {
        "id": "hN12zAQvMDpb",
        "colab_type": "text"
      },
      "source": [
        "Day 8 Assignment 1"
      ]
    },
    {
      "cell_type": "code",
      "metadata": {
        "id": "EHm-l2CxMSNs",
        "colab_type": "code",
        "colab": {}
      },
      "source": [
        " \n",
        "def new(f):\n",
        "    fun=[]\n",
        "  \n",
        "def helper(x):\n",
        "    if x not in fun:\n",
        "        print(x)\n",
        "        fun[x]=f(x)\n",
        "        return fun[x]\n",
        "    return helper"
      ],
      "execution_count": null,
      "outputs": []
    },
    {
      "cell_type": "code",
      "metadata": {
        "id": "5L6F9tjbaSDa",
        "colab_type": "code",
        "colab": {
          "base_uri": "https://localhost:8080/",
          "height": 205
        },
        "outputId": "98553acc-7c66-4923-dcf5-5caf0acc3064"
      },
      "source": [
        " #new\n",
        "def fib(n):\n",
        "    if n==0:\n",
        "        return 0\n",
        "    elif n==1:\n",
        "        return 1\n",
        "    else:\n",
        "        return fib(n-1)+fib(n-2)\n",
        "for i in range (0,11):\n",
        "        print(fib(i))"
      ],
      "execution_count": null,
      "outputs": [
        {
          "output_type": "stream",
          "text": [
            "0\n",
            "1\n",
            "1\n",
            "2\n",
            "3\n",
            "5\n",
            "8\n",
            "13\n",
            "21\n",
            "34\n",
            "55\n"
          ],
          "name": "stdout"
        }
      ]
    },
    {
      "cell_type": "markdown",
      "metadata": {
        "id": "4fFb8SDDMTHD",
        "colab_type": "text"
      },
      "source": [
        "Day8 Assignment 2"
      ]
    },
    {
      "cell_type": "code",
      "metadata": {
        "id": "y9-_nvOhRClC",
        "colab_type": "code",
        "colab": {
          "base_uri": "https://localhost:8080/",
          "height": 51
        },
        "outputId": "17bbc588-5ffd-46a5-e39a-096737acd728"
      },
      "source": [
        " file = open(\"letsupgrade.txt\",\"w\")\n",
        "file.write(\"welcome to letsupgrade community\")\n",
        "file.close()\n",
        "try:\n",
        "    file = open(\"letsupgrade.txt\",\"r\")\n",
        "    file.write(\"welcome to letsupgrade community\")\n",
        "    file.close()\n",
        "except Exception as e:\n",
        "    print(e)\n",
        "finally:\n",
        "    print(\"whatever u are I will print it\")"
      ],
      "execution_count": null,
      "outputs": [
        {
          "output_type": "stream",
          "text": [
            "not writable\n",
            "whatever u are I will print it\n"
          ],
          "name": "stdout"
        }
      ]
    }
  ]
}