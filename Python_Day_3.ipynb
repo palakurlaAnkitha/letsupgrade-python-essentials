{
  "nbformat": 4,
  "nbformat_minor": 0,
  "metadata": {
    "colab": {
      "name": "Python Day-3",
      "provenance": [],
      "authorship_tag": "ABX9TyNmMDmro7SPYZ9spN6AsKEp",
      "include_colab_link": true
    },
    "kernelspec": {
      "name": "python3",
      "display_name": "Python 3"
    }
  },
  "cells": [
    {
      "cell_type": "markdown",
      "metadata": {
        "id": "view-in-github",
        "colab_type": "text"
      },
      "source": [
        "<a href=\"https://colab.research.google.com/github/palakurlaAnkitha/letsupgrade-python-essentials/blob/master/Python_Day_3.ipynb\" target=\"_parent\"><img src=\"https://colab.research.google.com/assets/colab-badge.svg\" alt=\"Open In Colab\"/></a>"
      ]
    },
    {
      "cell_type": "markdown",
      "metadata": {
        "id": "_5SwT8oVChgE",
        "colab_type": "text"
      },
      "source": [
        "Day 3 assignment 1"
      ]
    },
    {
      "cell_type": "code",
      "metadata": {
        "id": "C7Ubeb9yCsuP",
        "colab_type": "code",
        "colab": {
          "base_uri": "https://localhost:8080/",
          "height": 34
        },
        "outputId": "29813311-8367-4fa7-d125-6a98e79257ef"
      },
      "source": [
        "a=1000\n",
        "if a == 1000:\n",
        "    print(\"plane is safe to land\")\n",
        "elif a > 1000 and a < 5000:\n",
        "    print(\"bring down the plane to 1000\")\n",
        "else:\n",
        "    print(\"turn around the plane\")"
      ],
      "execution_count": null,
      "outputs": [
        {
          "output_type": "stream",
          "text": [
            "plane is safe to land\n"
          ],
          "name": "stdout"
        }
      ]
    },
    {
      "cell_type": "markdown",
      "metadata": {
        "id": "y7NEyYCWDa1x",
        "colab_type": "text"
      },
      "source": [
        "Day 3 assignment 2"
      ]
    },
    {
      "cell_type": "code",
      "metadata": {
        "id": "KpmygLNDDdjs",
        "colab_type": "code",
        "colab": {
          "base_uri": "https://localhost:8080/",
          "height": 820
        },
        "outputId": "fb0c0653-5844-4fea-c079-bef8cde01a82"
      },
      "source": [
        "lower = 1\n",
        "upper = 200\n",
        " \n",
        "print(\"Prime numbers between\", lower, \"and\", upper, \"are:\")\n",
        " \n",
        "for num in range(lower, upper + 1):\n",
        " \n",
        "   if num > 1:\n",
        "       for i in range(2, num):\n",
        "           if (num % i) == 0:\n",
        "               break\n",
        "       else:\n",
        "           print(num)"
      ],
      "execution_count": null,
      "outputs": [
        {
          "output_type": "stream",
          "text": [
            "Prime numbers between 1 and 200 are:\n",
            "2\n",
            "3\n",
            "5\n",
            "7\n",
            "11\n",
            "13\n",
            "17\n",
            "19\n",
            "23\n",
            "29\n",
            "31\n",
            "37\n",
            "41\n",
            "43\n",
            "47\n",
            "53\n",
            "59\n",
            "61\n",
            "67\n",
            "71\n",
            "73\n",
            "79\n",
            "83\n",
            "89\n",
            "97\n",
            "101\n",
            "103\n",
            "107\n",
            "109\n",
            "113\n",
            "127\n",
            "131\n",
            "137\n",
            "139\n",
            "149\n",
            "151\n",
            "157\n",
            "163\n",
            "167\n",
            "173\n",
            "179\n",
            "181\n",
            "191\n",
            "193\n",
            "197\n",
            "199\n"
          ],
          "name": "stdout"
        }
      ]
    }
  ]
}