{
  "nbformat": 4,
  "nbformat_minor": 0,
  "metadata": {
    "colab": {
      "name": "Python Day-9",
      "provenance": [],
      "authorship_tag": "ABX9TyPrYApz0bP8WFJsKtsn3kvG",
      "include_colab_link": true
    },
    "kernelspec": {
      "name": "python3",
      "display_name": "Python 3"
    }
  },
  "cells": [
    {
      "cell_type": "markdown",
      "metadata": {
        "id": "view-in-github",
        "colab_type": "text"
      },
      "source": [
        "<a href=\"https://colab.research.google.com/github/palakurlaAnkitha/letsupgrade-python-essentials/blob/master/Python_Day_9.ipynb\" target=\"_parent\"><img src=\"https://colab.research.google.com/assets/colab-badge.svg\" alt=\"Open In Colab\"/></a>"
      ]
    },
    {
      "cell_type": "markdown",
      "metadata": {
        "id": "cq4r7grhyZSq",
        "colab_type": "text"
      },
      "source": [
        "Day 9 Assignment 1"
      ]
    },
    {
      "cell_type": "code",
      "metadata": {
        "id": "DdsR8HGIevNI",
        "colab_type": "code",
        "colab": {
          "base_uri": "https://localhost:8080/",
          "height": 208
        },
        "outputId": "522153c8-6e78-401a-9436-cf940fa051b8"
      },
      "source": [
        " \n",
        "!pip install pylint\n",
        "file=open(\"primenum.py\",\"w\")\n",
        "file.write('num=int(input(\"enter ur number\"))flag=0for x in range(1,num+1):ifnum%x==0:flag+=1if flag==2: print(\"its a prime number\")else :  print(\"it is not a prime number\")')\n",
        "file.close()\n",
        "file=open(\"primenum.py\",\"r\")\n",
        "print(file.read())\n",
        "file.close()"
      ],
      "execution_count": null,
      "outputs": [
        {
          "output_type": "stream",
          "text": [
            "Requirement already satisfied: pylint in /usr/local/lib/python3.6/dist-packages (2.6.0)\n",
            "Requirement already satisfied: isort<6,>=4.2.5 in /usr/local/lib/python3.6/dist-packages (from pylint) (5.5.2)\n",
            "Requirement already satisfied: astroid<=2.5,>=2.4.0 in /usr/local/lib/python3.6/dist-packages (from pylint) (2.4.2)\n",
            "Requirement already satisfied: mccabe<0.7,>=0.6 in /usr/local/lib/python3.6/dist-packages (from pylint) (0.6.1)\n",
            "Requirement already satisfied: toml>=0.7.1 in /usr/local/lib/python3.6/dist-packages (from pylint) (0.10.1)\n",
            "Requirement already satisfied: six~=1.12 in /usr/local/lib/python3.6/dist-packages (from astroid<=2.5,>=2.4.0->pylint) (1.15.0)\n",
            "Requirement already satisfied: wrapt~=1.11 in /usr/local/lib/python3.6/dist-packages (from astroid<=2.5,>=2.4.0->pylint) (1.12.1)\n",
            "Requirement already satisfied: lazy-object-proxy==1.4.* in /usr/local/lib/python3.6/dist-packages (from astroid<=2.5,>=2.4.0->pylint) (1.4.3)\n",
            "Requirement already satisfied: typed-ast<1.5,>=1.4.0; implementation_name == \"cpython\" and python_version < \"3.8\" in /usr/local/lib/python3.6/dist-packages (from astroid<=2.5,>=2.4.0->pylint) (1.4.1)\n",
            "num=int(input(\"enter ur number\"))flag=0for x in range(1,num+1):ifnum%x==0:flag+=1if flag==2: print(\"its a prime number\")else :  print(\"it is not a prime number\")\n"
          ],
          "name": "stdout"
        }
      ]
    },
    {
      "cell_type": "code",
      "metadata": {
        "id": "LwR_K4kt3tZg",
        "colab_type": "code",
        "colab": {
          "base_uri": "https://localhost:8080/",
          "height": 71
        },
        "outputId": "7818138e-4348-40dc-b0cb-18ddce8a30f2"
      },
      "source": [
        "!pylint primenum.py"
      ],
      "execution_count": null,
      "outputs": [
        {
          "output_type": "stream",
          "text": [
            "************* Module primenum\n",
            "primenum.py:1:37: E0001: invalid syntax (<unknown>, line 1) (syntax-error)\n"
          ],
          "name": "stdout"
        }
      ]
    },
    {
      "cell_type": "code",
      "metadata": {
        "id": "-PfydElIi1Sw",
        "colab_type": "code",
        "colab": {}
      },
      "source": [
        " # unittest\n",
        " \n",
        "import unittest\n",
        "import primenum.py\n",
        "class Testprimenum(unittest.Testcase):\n",
        "  def prime(self):\n",
        "    n=4\n",
        "    result=primenum.prime(n)\n",
        "    self.assertEqual(result,\"it is not a prime number\")"
      ],
      "execution_count": null,
      "outputs": []
    },
    {
      "cell_type": "markdown",
      "metadata": {
        "id": "vbqUhB8vycee",
        "colab_type": "text"
      },
      "source": [
        "Day 9 Assignment 2"
      ]
    },
    {
      "cell_type": "code",
      "metadata": {
        "id": "EdRxSsUsxcRe",
        "colab_type": "code",
        "colab": {}
      },
      "source": [
        " \n",
        "def armstrongnum():\n",
        "  # Python program to check if the number is an Armstrong number or not\n",
        " \n",
        "# take input from the user\n",
        "  for x in range(1,1000):\n",
        " \n",
        "# initialize sum\n",
        "    sum = 0\n",
        " \n",
        "# find the sum of the cube of each digit\n",
        "    temp = x\n",
        "    while temp > 0:\n",
        "       digit = temp % 10\n",
        "       sum += digit ** 3\n",
        "       temp //= 10\n",
        " \n",
        "# display the result\n",
        "    if x == sum:\n",
        "       yield x"
      ],
      "execution_count": null,
      "outputs": []
    },
    {
      "cell_type": "code",
      "metadata": {
        "id": "r-uYOEPvxldm",
        "colab_type": "code",
        "colab": {
          "base_uri": "https://localhost:8080/",
          "height": 34
        },
        "outputId": "aa6ab05d-4165-438f-cd74-073712369fc5"
      },
      "source": [
        "list(armstrongnum())"
      ],
      "execution_count": null,
      "outputs": [
        {
          "output_type": "execute_result",
          "data": {
            "text/plain": [
              "[1, 153, 370, 371, 407]"
            ]
          },
          "metadata": {
            "tags": []
          },
          "execution_count": 32
        }
      ]
    }
  ]
}